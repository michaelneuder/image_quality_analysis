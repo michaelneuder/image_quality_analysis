{
 "cells": [
  {
   "cell_type": "markdown",
   "metadata": {},
   "source": [
    "# single patch conv net  \n",
    "\n",
    "this notebook it an attempt to solve some of the issues being encountered on the full size network by reducing the size of the problem to learn the SSIM score for a single patch of each image (using the upper left most pixels). in principle this task should be identical to what the larger net is trying to do but should give some insight into what is going on."
   ]
  },
  {
   "cell_type": "code",
   "execution_count": 1,
   "metadata": {
    "collapsed": true
   },
   "outputs": [],
   "source": [
    "#!/usr/bin/env python3\n",
    "import os\n",
    "os.environ['TF_CPP_MIN_LOG_LEVEL']='2'\n",
    "import numpy as np\n",
    "np.set_printoptions(threshold=np.nan)\n",
    "import tensorflow as tf\n",
    "import time\n",
    "import pandas as pd\n",
    "import matplotlib.pyplot as plt\n",
    "import progressbar"
   ]
  },
  {
   "cell_type": "markdown",
   "metadata": {},
   "source": [
    "### network functions"
   ]
  },
  {
   "cell_type": "code",
   "execution_count": 3,
   "metadata": {
    "collapsed": true
   },
   "outputs": [],
   "source": [
    "def convolve_inner_layers(x, W, b):\n",
    "    y = tf.nn.conv2d(x, W, strides = [1,1,1,1], padding='VALID')\n",
    "    y = tf.nn.bias_add(y, b)\n",
    "    return tf.nn.tanh(y)\n",
    "\n",
    "def convolve_ouput_layer(x, W, b):\n",
    "    y = tf.nn.conv2d(x, W, strides = [1,1,1,1], padding='VALID')\n",
    "    y = tf.nn.bias_add(y, b)\n",
    "    return y\n",
    "\n",
    "def conv_net(x, W, b):\n",
    "    conv1 = convolve_inner_layers(x, W['weights1'], b['bias1'])\n",
    "    conv2 = convolve_inner_layers(conv1, W['weights2'], b['bias2'])\n",
    "    conv3 = convolve_inner_layers(conv2, W['weights3'], b['bias3'])\n",
    "    output_feed = tf.concat([conv1, conv2, conv3],3)\n",
    "    output = convolve_ouput_layer(output_feed, W['weights_out'], b['bias_out'])\n",
    "    return output"
   ]
  },
  {
   "cell_type": "markdown",
   "metadata": {},
   "source": [
    "### data processing functions"
   ]
  },
  {
   "cell_type": "code",
   "execution_count": 5,
   "metadata": {
    "collapsed": true
   },
   "outputs": [],
   "source": [
    "def get_variance(training_target):\n",
    "    all_pixels = training_target.flatten()\n",
    "    return all_pixels.var()\n",
    "\n",
    "def get_epoch(x, y, n):\n",
    "    input_size = x.shape[0]\n",
    "    number_batches = input_size // n\n",
    "    extra_examples = input_size % n\n",
    "    batches = {}\n",
    "    batch_indices = np.arange(input_size)\n",
    "    np.random.shuffle(batch_indices)\n",
    "    for i in range(number_batches):\n",
    "        temp_indices = batch_indices[n*i:n*(i+1)]\n",
    "        temp_x = []\n",
    "        temp_y = []\n",
    "        for j in temp_indices:\n",
    "            temp_x.append(x[j])\n",
    "            temp_y.append(y[j])\n",
    "        batches[i] = [np.asarray(temp_x), np.asarray(temp_y)]\n",
    "    if extra_examples != 0:\n",
    "        extra_indices = batch_indices[input_size-extra_examples:input_size]\n",
    "        temp_x = []\n",
    "        temp_y = []\n",
    "        for k in extra_indices:\n",
    "            temp_x.append(x[k])\n",
    "            temp_y.append(y[k])\n",
    "        batches[i+1] = [np.asarray(temp_x), np.asarray(temp_y)]\n",
    "    return batches\n",
    "\n",
    "def normalize_input(train_data, test_data):\n",
    "    mean, std_dev = np.mean(train_data, axis=0), np.std(train_data, axis=0)\n",
    "    return (train_data - mean) / std_dev, (test_data - mean) / std_dev\n",
    "\n",
    "def calculate_ssim(window_orig, window_recon):\n",
    "    k_1 = 0.01\n",
    "    k_2 = 0.03\n",
    "    L = 255\n",
    "    if window_orig.shape != (11,11) or window_recon.shape != (11,11):\n",
    "        raise ValueError('please check window size for SSIM calculation!')\n",
    "    orig_data = window_orig.flatten()\n",
    "    recon_data = window_recon.flatten()\n",
    "    mean_x = np.mean(orig_data)\n",
    "    mean_y = np.mean(recon_data)\n",
    "    var_x = np.var(orig_data)\n",
    "    var_y = np.var(recon_data)\n",
    "    covar = np.cov(orig_data, recon_data)[0][1]\n",
    "    c_1 = (L*k_1)**2\n",
    "    c_2 = (L*k_2)**2\n",
    "    num = (2*mean_x*mean_y+c_1)*(2*covar+c_2)\n",
    "    den = (mean_x**2+mean_y**2+c_1)*(var_x+var_y+c_2)\n",
    "    return num/den"
   ]
  },
  {
   "cell_type": "markdown",
   "metadata": {},
   "source": [
    "### network set up"
   ]
  },
  {
   "cell_type": "code",
   "execution_count": 33,
   "metadata": {
    "collapsed": true
   },
   "outputs": [],
   "source": [
    "# network parameters\n",
    "filter_dim, filter_dim2 = 11, 1\n",
    "batch_size = 200\n",
    "image_dim, result_dim = 96, 86\n",
    "input_layer, first_layer, second_layer, third_layer, output_layer = 4, 17, 9, 4, 1\n",
    "learning_rate = .01\n",
    "epochs = 300"
   ]
  },
  {
   "cell_type": "code",
   "execution_count": 36,
   "metadata": {
    "collapsed": true
   },
   "outputs": [],
   "source": [
    "# data input\n",
    "data_path = 'https://raw.githubusercontent.com/michaelneuder/image_quality_analysis/master/data/sample_data/'\n",
    "\n",
    "# train data --- 500 images, 96x96 pixels\n",
    "orig_500 = pd.read_csv('{}orig_500.txt'.format(data_path), header=None, delim_whitespace = True)\n",
    "recon_500 = pd.read_csv('{}recon_500.txt'.format(data_path), header=None, delim_whitespace = True)\n",
    "\n",
    "# test data --- 140 images, 96x96 pixels\n",
    "orig_140 = pd.read_csv('{}orig_140.txt'.format(data_path), header=None, delim_whitespace = True)\n",
    "recon_140 = pd.read_csv('{}recon_140.txt'.format(data_path), header=None, delim_whitespace = True)\n",
    "\n",
    "# train target --- 500 images, 86x86 pixels (dimension reduction due no zero padding being used)\n",
    "ssim_500 = pd.read_csv('{}ssim_500_new.csv'.format(data_path), header=None).values\n",
    "ssim_140 = pd.read_csv('{}ssim_140_new.csv'.format(data_path), header=None).values"
   ]
  },
  {
   "cell_type": "code",
   "execution_count": 37,
   "metadata": {},
   "outputs": [],
   "source": [
    "# getting 4 input channels for train and test\n",
    "original_images_train = orig_500.values\n",
    "original_images_train_sq = orig_500.values**2\n",
    "reconstructed_images_train = recon_500.values\n",
    "reconstructed_images_train_sq = recon_500.values**2\n",
    "\n",
    "original_images_test = orig_140.values\n",
    "original_images_test_sq = orig_140.values**2\n",
    "reconstructed_images_test = recon_140.values\n",
    "reconstructed_images_test_sq = recon_140.values**2\n",
    "\n",
    "# stack inputs\n",
    "training_input = np.dstack((original_images_train, reconstructed_images_train, original_images_train_sq, reconstructed_images_train_sq))\n",
    "testing_input = np.dstack((original_images_test, reconstructed_images_test, original_images_test_sq, reconstructed_images_test_sq))\n",
    "\n",
    "# normalize inputs\n",
    "training_input_normalized, testing_input_normalized = normalize_input(training_input, testing_input)\n",
    "\n",
    "# get size of training and testing set\n",
    "train_size = original_images_train.shape[0]\n",
    "test_size = original_images_test.shape[0]\n",
    "\n",
    "# reshaping\n",
    "train_data = np.reshape(training_input_normalized, [train_size,image_dim,image_dim,input_layer])\n",
    "test_data =  np.reshape(testing_input_normalized, [test_size,image_dim,image_dim,input_layer])\n",
    "\n",
    "# reshaping the result data to --- (num pics), 86, 86, 1\n",
    "train_target = np.reshape(ssim_500, [train_size, result_dim, result_dim, output_layer])\n",
    "test_target = np.reshape(ssim_140, [test_size, result_dim, result_dim, output_layer])"
   ]
  },
  {
   "cell_type": "markdown",
   "metadata": {},
   "source": [
    "### single patch set up\n",
    "\n",
    "now that we have all the network data set up, we can just grab the top left corner (11x11 pixels) of each image."
   ]
  },
  {
   "cell_type": "code",
   "execution_count": 21,
   "metadata": {},
   "outputs": [],
   "source": [
    "single_train_data, single_test_data = train_data[:,:11,:11,:], test_data[:,:11,:11,:]"
   ]
  },
  {
   "cell_type": "markdown",
   "metadata": {},
   "source": [
    "first we will do manual calculations of the ssim score. and compare that to the matlab data (read from file)."
   ]
  },
  {
   "cell_type": "code",
   "execution_count": 28,
   "metadata": {},
   "outputs": [],
   "source": [
    "ssim_train, ssim_test = [], []\n",
    "for i in range(train_size):\n",
    "    ssim_train.append(calculate_ssim(single_train_data[i][...,0], single_train_data[i][...,1]))\n",
    "    if i < 140:\n",
    "        ssim_test.append(calculate_ssim(single_test_data[i][...,0], single_test_data[i][...,1]))\n",
    "\n",
    "ssim_train = np.reshape(np.asarray(ssim_train), (train_size,1))\n",
    "ssim_test = np.reshape(np.asarray(ssim_test), (test_size,1))"
   ]
  },
  {
   "cell_type": "code",
   "execution_count": 30,
   "metadata": {},
   "outputs": [
    {
     "data": {
      "text/plain": [
       "((500, 1), (140, 1))"
      ]
     },
     "execution_count": 30,
     "metadata": {},
     "output_type": "execute_result"
    }
   ],
   "source": [
    "ssim_train.shape, ssim_test.shape"
   ]
  },
  {
   "cell_type": "code",
   "execution_count": 43,
   "metadata": {},
   "outputs": [
    {
     "data": {
      "text/plain": [
       "((500, 1), (140, 1))"
      ]
     },
     "execution_count": 43,
     "metadata": {},
     "output_type": "execute_result"
    }
   ],
   "source": [
    "ssim_train_mat = np.reshape(train_target[:,0,0,0], [train_size,1])\n",
    "ssim_test_mat = np.reshape(test_target[:,0,0,0], [test_size,1])\n",
    "ssim_train_mat.shape, ssim_test_mat.shape"
   ]
  },
  {
   "cell_type": "code",
   "execution_count": 46,
   "metadata": {},
   "outputs": [
    {
     "data": {
      "text/plain": [
       "-0.44595500191836129"
      ]
     },
     "execution_count": 46,
     "metadata": {},
     "output_type": "execute_result"
    }
   ],
   "source": [
    "x = ssim_test_mat - ssim_test\n",
    "x.mean()"
   ]
  },
  {
   "cell_type": "markdown",
   "metadata": {},
   "source": [
    "now we have the target values set up we can train the network with the python data."
   ]
  },
  {
   "cell_type": "code",
   "execution_count": 62,
   "metadata": {},
   "outputs": [],
   "source": [
    "# tensorflow graph set up\n",
    "tf.reset_default_graph()\n",
    "\n",
    "# initializing variables --- fan in\n",
    "scaling_factor = 1.0\n",
    "initializer = tf.contrib.layers.variance_scaling_initializer(factor=scaling_factor, mode='FAN_IN')\n",
    "weights = {\n",
    "    'weights1': tf.get_variable('weights1', [filter_dim,filter_dim,input_layer,first_layer], initializer=initializer),\n",
    "    'weights2': tf.get_variable('weights2', [filter_dim2,filter_dim2,first_layer,second_layer], initializer=initializer),\n",
    "    'weights3': tf.get_variable('weights3', [filter_dim2,filter_dim2,second_layer,third_layer], initializer=initializer),\n",
    "    'weights_out': tf.get_variable('weights4', [filter_dim2,filter_dim2,third_layer+second_layer+first_layer,output_layer], initializer=initializer)\n",
    "}\n",
    "biases = {\n",
    "    'bias1': tf.get_variable('bias1', [first_layer], initializer=initializer),\n",
    "    'bias2': tf.get_variable('bias2', [second_layer], initializer=initializer),\n",
    "    'bias3': tf.get_variable('bias3', [third_layer], initializer=initializer),\n",
    "    'bias_out': tf.get_variable('bias4', [output_layer], initializer=initializer)\n",
    "}\n",
    "\n",
    "# tf Graph input\n",
    "x = tf.placeholder(tf.float32, [None, filter_dim, filter_dim, input_layer])\n",
    "y = tf.placeholder(tf.float32, [None, output_layer])\n",
    "\n",
    "# model\n",
    "prediction = conv_net(x, weights, biases)\n",
    "\n",
    "# get variance to normalize error terms during training\n",
    "variance = get_variance(train_target)\n",
    "\n",
    "# loss and optimization\n",
    "cost = tf.reduce_mean(tf.square(tf.subtract(prediction, y)))\n",
    "optimizer = tf.train.AdamOptimizer(learning_rate=learning_rate).minimize(cost)"
   ]
  },
  {
   "cell_type": "code",
   "execution_count": 82,
   "metadata": {},
   "outputs": [
    {
     "name": "stderr",
     "output_type": "stream",
     "text": [
      "100% (300 of 300) |#######################| Elapsed Time: 0:00:03 Time: 0:00:03\n"
     ]
    }
   ],
   "source": [
    "# session\n",
    "init = tf.global_variables_initializer()\n",
    "error_train, error_test = [], []\n",
    "with tf.Session() as sess:\n",
    "    sess.run(init)\n",
    "    bar = progressbar.ProgressBar()\n",
    "    for epoch_count in bar(range(epochs)):\n",
    "        epoch = get_epoch(single_train_data, ssim_train, batch_size)\n",
    "        for i in epoch:\n",
    "            x_data_train, y_data_train = np.asarray(epoch[i][0]), np.asarray(epoch[i][1])\n",
    "            sess.run(optimizer, feed_dict={x : x_data_train, y : y_data_train})\n",
    "            loss = sess.run(cost, feed_dict={x : x_data_train, y : y_data_train})\n",
    "            percent_error = 100*loss/variance\n",
    "        error_train.append(percent_error)\n",
    "        score = sess.run(cost, feed_dict={x: single_test_data, y: ssim_test})\n",
    "        percent_error = 100*score/variance\n",
    "        error_test.append(percent_error)"
   ]
  },
  {
   "cell_type": "code",
   "execution_count": 83,
   "metadata": {},
   "outputs": [
    {
     "data": {
      "image/png": "[encoded data removed]",
      "text/plain": [
       "<matplotlib.figure.Figure at 0x7fa831ce47b8>"
      ]
     },
     "metadata": {},
     "output_type": "display_data"
    }
   ],
   "source": [
    "fig, ax = plt.subplots(figsize=(14,7))\n",
    "ax.plot(np.arange(len(error_train)), error_train, label='train', color='k', alpha=0.5)\n",
    "ax.plot(np.arange(len(error_test)), error_test, label='test', color='b', alpha=0.5)\n",
    "ax.legend()\n",
    "ax.set_ylim(0,300)\n",
    "ax.set_ylabel('error', size=20)\n",
    "ax.set_xlabel('epoch count', size=20)\n",
    "ax.set_title('python data : single patch network', size=20)\n",
    "plt.savefig('python_single.png')\n",
    "plt.show()"
   ]
  },
  {
   "cell_type": "markdown",
   "metadata": {},
   "source": [
    "this looks great! now lets try it with the matlab data."
   ]
  },
  {
   "cell_type": "code",
   "execution_count": 84,
   "metadata": {
    "collapsed": true
   },
   "outputs": [],
   "source": [
    "# tensorflow graph set up\n",
    "tf.reset_default_graph()\n",
    "\n",
    "# initializing variables --- fan in\n",
    "scaling_factor = 1.0\n",
    "initializer = tf.contrib.layers.variance_scaling_initializer(factor=scaling_factor, mode='FAN_IN')\n",
    "weights = {\n",
    "    'weights1': tf.get_variable('weights1', [filter_dim,filter_dim,input_layer,first_layer], initializer=initializer),\n",
    "    'weights2': tf.get_variable('weights2', [filter_dim2,filter_dim2,first_layer,second_layer], initializer=initializer),\n",
    "    'weights3': tf.get_variable('weights3', [filter_dim2,filter_dim2,second_layer,third_layer], initializer=initializer),\n",
    "    'weights_out': tf.get_variable('weights4', [filter_dim2,filter_dim2,third_layer+second_layer+first_layer,output_layer], initializer=initializer)\n",
    "}\n",
    "biases = {\n",
    "    'bias1': tf.get_variable('bias1', [first_layer], initializer=initializer),\n",
    "    'bias2': tf.get_variable('bias2', [second_layer], initializer=initializer),\n",
    "    'bias3': tf.get_variable('bias3', [third_layer], initializer=initializer),\n",
    "    'bias_out': tf.get_variable('bias4', [output_layer], initializer=initializer)\n",
    "}\n",
    "\n",
    "# tf Graph input\n",
    "x = tf.placeholder(tf.float32, [None, filter_dim, filter_dim, input_layer])\n",
    "y = tf.placeholder(tf.float32, [None, output_layer])\n",
    "\n",
    "# model\n",
    "prediction = conv_net(x, weights, biases)\n",
    "\n",
    "# get variance to normalize error terms during training\n",
    "variance = get_variance(train_target)\n",
    "\n",
    "# loss and optimization\n",
    "cost = tf.reduce_mean(tf.square(tf.subtract(prediction, y)))\n",
    "optimizer = tf.train.AdamOptimizer(learning_rate=learning_rate).minimize(cost)"
   ]
  },
  {
   "cell_type": "code",
   "execution_count": 87,
   "metadata": {},
   "outputs": [
    {
     "name": "stderr",
     "output_type": "stream",
     "text": [
      "100% (300 of 300) |#######################| Elapsed Time: 0:00:03 Time: 0:00:03\n"
     ]
    }
   ],
   "source": [
    "# session\n",
    "init = tf.global_variables_initializer()\n",
    "error_train, error_test = [], []\n",
    "with tf.Session() as sess:\n",
    "    sess.run(init)\n",
    "    bar = progressbar.ProgressBar()\n",
    "    for epoch_count in bar(range(epochs)):\n",
    "        epoch = get_epoch(single_train_data, ssim_train_mat, batch_size)\n",
    "        for i in epoch:\n",
    "            x_data_train, y_data_train = np.asarray(epoch[i][0]), np.asarray(epoch[i][1])\n",
    "            sess.run(optimizer, feed_dict={x : x_data_train, y : y_data_train})\n",
    "            loss = sess.run(cost, feed_dict={x : x_data_train, y : y_data_train})\n",
    "            percent_error = 100*loss/variance\n",
    "        error_train.append(percent_error)\n",
    "        score = sess.run(cost, feed_dict={x: single_test_data, y: ssim_test_mat})\n",
    "        percent_error = 100*score/variance\n",
    "        error_test.append(percent_error)"
   ]
  },
  {
   "cell_type": "code",
   "execution_count": 88,
   "metadata": {},
   "outputs": [
    {
     "data": {
      "image/png": "[encoded data removed]",
      "text/plain": [
       "<matplotlib.figure.Figure at 0x7fa81a320780>"
      ]
     },
     "metadata": {},
     "output_type": "display_data"
    }
   ],
   "source": [
    "fig, ax = plt.subplots(figsize=(14,7))\n",
    "ax.plot(np.arange(len(error_train)), error_train, label='train', color='k', alpha=0.5)\n",
    "ax.plot(np.arange(len(error_test)), error_test, label='test', color='b', alpha=0.5)\n",
    "ax.legend()\n",
    "ax.set_ylim(0,300)\n",
    "ax.set_ylabel('error', size=20)\n",
    "ax.set_xlabel('epoch count', size=20)\n",
    "ax.set_title('matlab data : single patch network', size=20)\n",
    "plt.savefig('matlab_single.png')\n",
    "plt.show()"
   ]
  },
  {
   "cell_type": "markdown",
   "metadata": {},
   "source": [
    "not so great. this is not good\n"
   ]
  }
 ],
 "metadata": {
  "kernelspec": {
   "display_name": "Python 3",
   "language": "python",
   "name": "python3"
  },
  "language_info": {
   "codemirror_mode": {
    "name": "ipython",
    "version": 3
   },
   "file_extension": ".py",
   "mimetype": "text/x-python",
   "name": "python",
   "nbconvert_exporter": "python",
   "pygments_lexer": "ipython3",
   "version": "3.5.2"
  }
 },
 "nbformat": 4,
 "nbformat_minor": 2
}
