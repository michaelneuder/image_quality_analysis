{
 "cells": [
  {
   "cell_type": "markdown",
   "metadata": {},
   "source": [
    "# convolutional net  \n",
    "a conv net to learn the ssim scores of image reconstruction."
   ]
  },
  {
   "cell_type": "code",
   "execution_count": 1,
   "metadata": {
    "collapsed": true
   },
   "outputs": [],
   "source": [
    "import os\n",
    "os.environ['TF_CPP_MIN_LOG_LEVEL']='2'\n",
    "import progressbar\n",
    "import tensorflow as tf\n",
    "import matplotlib.pyplot as plt\n",
    "import pandas as pd\n",
    "import numpy as np\n",
    "%matplotlib inline\n",
    "plt.rcParams['figure.figsize'] = (14,4)"
   ]
  },
  {
   "cell_type": "markdown",
   "metadata": {},
   "source": [
    "### neural net functons"
   ]
  },
  {
   "cell_type": "code",
   "execution_count": 2,
   "metadata": {
    "collapsed": true
   },
   "outputs": [],
   "source": [
    "def convolve_inner_layers(x, W, b):\n",
    "    '''\n",
    "    inner layers of network --- tanh activation\n",
    "    '''\n",
    "    y = tf.nn.conv2d(x, W, strides = [1,1,1,1], padding='VALID')\n",
    "    y = tf.nn.bias_add(y, b)\n",
    "    return tf.nn.tanh(y)\n",
    "\n",
    "def convolve_ouput_layer(x, W, b):\n",
    "    '''\n",
    "    output layer of network --- linear activation\n",
    "    '''\n",
    "    y = tf.nn.conv2d(x, W, strides = [1,1,1,1], padding='VALID')\n",
    "    y = tf.nn.bias_add(y, b)\n",
    "    return y\n",
    "\n",
    "def conv_net(x, W, b):\n",
    "    '''\n",
    "    entire conv net. each layer feed to following layer as well as output layer\n",
    "    '''\n",
    "    conv1 = convolve_inner_layers(x, W['weights1'], b['bias1'])\n",
    "    conv2 = convolve_inner_layers(conv1, W['weights2'], b['bias2'])\n",
    "    conv3 = convolve_inner_layers(conv2, W['weights3'], b['bias3'])\n",
    "    output_feed = tf.concat([conv1, conv2, conv3],3)\n",
    "    output = convolve_ouput_layer(output_feed, W['weights_out'], b['bias_out'])\n",
    "    return output"
   ]
  },
  {
   "cell_type": "markdown",
   "metadata": {},
   "source": [
    "### data processing functions"
   ]
  },
  {
   "cell_type": "code",
   "execution_count": 3,
   "metadata": {
    "collapsed": true
   },
   "outputs": [],
   "source": [
    "def get_variance(training_target):\n",
    "    '''\n",
    "    returns variance of the target data. used in normalizing the error.\n",
    "    '''\n",
    "    all_pixels = training_target.flatten()\n",
    "    return all_pixels.var()\n",
    "\n",
    "def normalize_input(train_data, test_data):\n",
    "    '''\n",
    "    normailizing input across each pixel an each channel (i.e. normalize for each input to network).\n",
    "    '''\n",
    "    mean, std_dev = np.mean(train_data, axis=0), np.std(train_data, axis=0)\n",
    "    return (train_data - mean) / std_dev, (test_data - mean) / std_dev\n",
    "\n",
    "def get_epoch(x, y, n):\n",
    "    '''\n",
    "    splits entire data set into an epoch with minibatch of size n. returns a dict with key being the \n",
    "    minibatch number and the value being a length 2 list with the features in first index and \n",
    "    targets in the second.\n",
    "    '''\n",
    "    input_size = x.shape[0]\n",
    "    number_batches = input_size // n\n",
    "    extra_examples = input_size % n\n",
    "    batches = {}\n",
    "    batch_indices = np.arange(input_size)\n",
    "    np.random.shuffle(batch_indices)\n",
    "    for i in range(number_batches):\n",
    "        temp_indices = batch_indices[n*i:n*(i+1)]\n",
    "        temp_x = []\n",
    "        temp_y = []\n",
    "        for j in temp_indices:\n",
    "            temp_x.append(x[j])\n",
    "            temp_y.append(y[j])\n",
    "        batches[i] = [np.asarray(temp_x), np.asarray(temp_y)]\n",
    "    if extra_examples != 0:\n",
    "        extra_indices = batch_indices[input_size-extra_examples:input_size]\n",
    "        temp_x = []\n",
    "        temp_y = []\n",
    "        for k in extra_indices:\n",
    "            temp_x.append(x[k])\n",
    "            temp_y.append(y[k])\n",
    "        batches[i+1] = [np.asarray(temp_x), np.asarray(temp_y)]\n",
    "    return batches"
   ]
  },
  {
   "cell_type": "code",
   "execution_count": null,
   "metadata": {
    "collapsed": true
   },
   "outputs": [],
   "source": [
    "orig_500 = pd.read_csv('https://raw.githubusercontent.com/michaelneuder/image_quality_analysis/master/data/sample_data/orig_500.txt', header=None, delim_whitespace = True)\n",
    "recon_500 = pd.read_csv('https://raw.githubusercontent.com/michaelneuder/image_quality_analysis/master/data/sample_data/recon_500.txt', header=None, delim_whitespace = True)\n",
    "    "
   ]
  }
 ],
 "metadata": {
  "kernelspec": {
   "display_name": "Python 3",
   "language": "python",
   "name": "python3"
  },
  "language_info": {
   "codemirror_mode": {
    "name": "ipython",
    "version": 3
   },
   "file_extension": ".py",
   "mimetype": "text/x-python",
   "name": "python",
   "nbconvert_exporter": "python",
   "pygments_lexer": "ipython3",
   "version": "3.5.2"
  }
 },
 "nbformat": 4,
 "nbformat_minor": 2
}
