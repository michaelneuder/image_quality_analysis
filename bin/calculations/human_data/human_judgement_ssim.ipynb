{
 "cells": [
  {
   "cell_type": "markdown",
   "metadata": {},
   "source": [
    "## human judgetment ssim\n",
    "---\n",
    "\n",
    "running the human data through ssim and trained ssim network and comparing results."
   ]
  },
  {
   "cell_type": "code",
   "execution_count": 1,
   "metadata": {},
   "outputs": [],
   "source": [
    "import matplotlib.pyplot as plt\n",
    "import pandas as pd\n",
    "import numpy as np\n",
    "import matplotlib.image as mpimg\n",
    "from PIL import Image\n",
    "import progressbar\n",
    "import sys\n",
    "sys.path.insert(0, '/home/dirty_mike/Dropbox/github/image_quality_analysis/bin')\n",
    "import iqa_tools"
   ]
  },
  {
   "cell_type": "code",
   "execution_count": 3,
   "metadata": {},
   "outputs": [
    {
     "data": {
      "text/html": [
       "<div>\n",
       "<style>\n",
       "    .dataframe thead tr:only-child th {\n",
       "        text-align: right;\n",
       "    }\n",
       "\n",
       "    .dataframe thead th {\n",
       "        text-align: left;\n",
       "    }\n",
       "\n",
       "    .dataframe tbody tr th {\n",
       "        vertical-align: top;\n",
       "    }\n",
       "</style>\n",
       "<table border=\"1\" class=\"dataframe\">\n",
       "  <thead>\n",
       "    <tr style=\"text-align: right;\">\n",
       "      <th></th>\n",
       "      <th>left_file</th>\n",
       "      <th>right_file</th>\n",
       "      <th>response_left</th>\n",
       "      <th>orig_file</th>\n",
       "    </tr>\n",
       "  </thead>\n",
       "  <tbody>\n",
       "    <tr>\n",
       "      <th>0</th>\n",
       "      <td>'87_kriz_ssim_fc.png'</td>\n",
       "      <td>'87_kriz_mse_fc.png'</td>\n",
       "      <td>1</td>\n",
       "      <td>'87_orig.png'</td>\n",
       "    </tr>\n",
       "    <tr>\n",
       "      <th>1</th>\n",
       "      <td>'90_kriz_mse_fc.png'</td>\n",
       "      <td>'90_kriz_ssim_fc.png'</td>\n",
       "      <td>0</td>\n",
       "      <td>'90_orig.png'</td>\n",
       "    </tr>\n",
       "    <tr>\n",
       "      <th>2</th>\n",
       "      <td>'163_kriz_ssim_fc.png'</td>\n",
       "      <td>'163_kriz_mse_fc.png'</td>\n",
       "      <td>1</td>\n",
       "      <td>'163_orig.png'</td>\n",
       "    </tr>\n",
       "    <tr>\n",
       "      <th>3</th>\n",
       "      <td>'69_kriz_ssim_fc.png'</td>\n",
       "      <td>'69_kriz_mse_fc.png'</td>\n",
       "      <td>1</td>\n",
       "      <td>'69_orig.png'</td>\n",
       "    </tr>\n",
       "    <tr>\n",
       "      <th>4</th>\n",
       "      <td>'100_kriz_mse_fc.png'</td>\n",
       "      <td>'100_kriz_ssim_fc.png'</td>\n",
       "      <td>0</td>\n",
       "      <td>'100_orig.png'</td>\n",
       "    </tr>\n",
       "  </tbody>\n",
       "</table>\n",
       "</div>"
      ],
      "text/plain": [
       "                left_file              right_file  response_left  \\\n",
       "0   '87_kriz_ssim_fc.png'    '87_kriz_mse_fc.png'              1   \n",
       "1    '90_kriz_mse_fc.png'   '90_kriz_ssim_fc.png'              0   \n",
       "2  '163_kriz_ssim_fc.png'   '163_kriz_mse_fc.png'              1   \n",
       "3   '69_kriz_ssim_fc.png'    '69_kriz_mse_fc.png'              1   \n",
       "4   '100_kriz_mse_fc.png'  '100_kriz_ssim_fc.png'              0   \n",
       "\n",
       "        orig_file  \n",
       "0   '87_orig.png'  \n",
       "1   '90_orig.png'  \n",
       "2  '163_orig.png'  \n",
       "3   '69_orig.png'  \n",
       "4  '100_orig.png'  "
      ]
     },
     "execution_count": 3,
     "metadata": {},
     "output_type": "execute_result"
    }
   ],
   "source": [
    "human_df = pd.read_csv('human_data.csv')\n",
    "human_df.head()"
   ]
  },
  {
   "cell_type": "code",
   "execution_count": 4,
   "metadata": {},
   "outputs": [
    {
     "ename": "FileNotFoundError",
     "evalue": "[Errno 2] No such file or directory: 'iclr_images/1638_kriz_ssim_fc.png'",
     "output_type": "error",
     "traceback": [
      "\u001b[0;31m---------------------------------------------------------------------------\u001b[0m",
      "\u001b[0;31mFileNotFoundError\u001b[0m                         Traceback (most recent call last)",
      "\u001b[0;32m<ipython-input-4-0c9e27773059>\u001b[0m in \u001b[0;36m<module>\u001b[0;34m()\u001b[0m\n\u001b[1;32m      4\u001b[0m \u001b[0;32mfor\u001b[0m \u001b[0mii\u001b[0m \u001b[0;32min\u001b[0m \u001b[0mrange\u001b[0m\u001b[0;34m(\u001b[0m\u001b[0;36m3\u001b[0m\u001b[0;34m)\u001b[0m\u001b[0;34m:\u001b[0m\u001b[0;34m\u001b[0m\u001b[0m\n\u001b[1;32m      5\u001b[0m     \u001b[0mindex\u001b[0m \u001b[0;34m=\u001b[0m \u001b[0mnp\u001b[0m\u001b[0;34m.\u001b[0m\u001b[0mrandom\u001b[0m\u001b[0;34m.\u001b[0m\u001b[0mrandint\u001b[0m\u001b[0;34m(\u001b[0m\u001b[0;36m4040\u001b[0m\u001b[0;34m)\u001b[0m\u001b[0;34m\u001b[0m\u001b[0m\n\u001b[0;32m----> 6\u001b[0;31m     \u001b[0mtemp_left\u001b[0m \u001b[0;34m=\u001b[0m \u001b[0mmpimg\u001b[0m\u001b[0;34m.\u001b[0m\u001b[0mimread\u001b[0m\u001b[0;34m(\u001b[0m\u001b[0;34m'iclr_images/'\u001b[0m \u001b[0;34m+\u001b[0m  \u001b[0mhuman_df\u001b[0m\u001b[0;34m[\u001b[0m\u001b[0;34m'left_file'\u001b[0m\u001b[0;34m]\u001b[0m\u001b[0;34m[\u001b[0m\u001b[0mindex\u001b[0m\u001b[0;34m]\u001b[0m\u001b[0;34m[\u001b[0m\u001b[0;36m1\u001b[0m\u001b[0;34m:\u001b[0m\u001b[0;34m-\u001b[0m\u001b[0;36m1\u001b[0m\u001b[0;34m]\u001b[0m\u001b[0;34m)\u001b[0m\u001b[0;34m\u001b[0m\u001b[0m\n\u001b[0m\u001b[1;32m      7\u001b[0m     \u001b[0mtemp_right\u001b[0m \u001b[0;34m=\u001b[0m \u001b[0mmpimg\u001b[0m\u001b[0;34m.\u001b[0m\u001b[0mimread\u001b[0m\u001b[0;34m(\u001b[0m\u001b[0;34m'iclr_images/'\u001b[0m \u001b[0;34m+\u001b[0m \u001b[0mhuman_df\u001b[0m\u001b[0;34m[\u001b[0m\u001b[0;34m'right_file'\u001b[0m\u001b[0;34m]\u001b[0m\u001b[0;34m[\u001b[0m\u001b[0mindex\u001b[0m\u001b[0;34m]\u001b[0m\u001b[0;34m[\u001b[0m\u001b[0;36m1\u001b[0m\u001b[0;34m:\u001b[0m\u001b[0;34m-\u001b[0m\u001b[0;36m1\u001b[0m\u001b[0;34m]\u001b[0m\u001b[0;34m)\u001b[0m\u001b[0;34m\u001b[0m\u001b[0m\n\u001b[1;32m      8\u001b[0m     \u001b[0mtemp_orig\u001b[0m \u001b[0;34m=\u001b[0m \u001b[0mmpimg\u001b[0m\u001b[0;34m.\u001b[0m\u001b[0mimread\u001b[0m\u001b[0;34m(\u001b[0m\u001b[0;34m'iclr_images/'\u001b[0m \u001b[0;34m+\u001b[0m \u001b[0mhuman_df\u001b[0m\u001b[0;34m[\u001b[0m\u001b[0;34m'orig_file'\u001b[0m\u001b[0;34m]\u001b[0m\u001b[0;34m[\u001b[0m\u001b[0mindex\u001b[0m\u001b[0;34m]\u001b[0m\u001b[0;34m[\u001b[0m\u001b[0;36m1\u001b[0m\u001b[0;34m:\u001b[0m\u001b[0;34m-\u001b[0m\u001b[0;36m1\u001b[0m\u001b[0;34m]\u001b[0m\u001b[0;34m)\u001b[0m\u001b[0;34m\u001b[0m\u001b[0m\n",
      "\u001b[0;32m~/.local/lib/python3.5/site-packages/matplotlib/image.py\u001b[0m in \u001b[0;36mimread\u001b[0;34m(fname, format)\u001b[0m\n\u001b[1;32m   1295\u001b[0m             \u001b[0;32mreturn\u001b[0m \u001b[0mhandler\u001b[0m\u001b[0;34m(\u001b[0m\u001b[0mfd\u001b[0m\u001b[0;34m)\u001b[0m\u001b[0;34m\u001b[0m\u001b[0m\n\u001b[1;32m   1296\u001b[0m         \u001b[0;32melse\u001b[0m\u001b[0;34m:\u001b[0m\u001b[0;34m\u001b[0m\u001b[0m\n\u001b[0;32m-> 1297\u001b[0;31m             \u001b[0;32mwith\u001b[0m \u001b[0mopen\u001b[0m\u001b[0;34m(\u001b[0m\u001b[0mfname\u001b[0m\u001b[0;34m,\u001b[0m \u001b[0;34m'rb'\u001b[0m\u001b[0;34m)\u001b[0m \u001b[0;32mas\u001b[0m \u001b[0mfd\u001b[0m\u001b[0;34m:\u001b[0m\u001b[0;34m\u001b[0m\u001b[0m\n\u001b[0m\u001b[1;32m   1298\u001b[0m                 \u001b[0;32mreturn\u001b[0m \u001b[0mhandler\u001b[0m\u001b[0;34m(\u001b[0m\u001b[0mfd\u001b[0m\u001b[0;34m)\u001b[0m\u001b[0;34m\u001b[0m\u001b[0m\n\u001b[1;32m   1299\u001b[0m     \u001b[0;32melse\u001b[0m\u001b[0;34m:\u001b[0m\u001b[0;34m\u001b[0m\u001b[0m\n",
      "\u001b[0;31mFileNotFoundError\u001b[0m: [Errno 2] No such file or directory: 'iclr_images/1638_kriz_ssim_fc.png'"
     ]
    }
   ],
   "source": [
    "# data sample\n",
    "f, axarr = plt.subplots(nrows=3, ncols=3, figsize=(9,9))\n",
    "\n",
    "for ii in range(3):\n",
    "    index = np.random.randint(4040)\n",
    "    temp_left = mpimg.imread('iclr_images/' +  human_df['left_file'][index][1:-1])\n",
    "    temp_right = mpimg.imread('iclr_images/' + human_df['right_file'][index][1:-1])\n",
    "    temp_orig = mpimg.imread('iclr_images/' + human_df['orig_file'][index][1:-1])\n",
    "    \n",
    "    axarr[ii][0].imshow(temp_orig, cmap='gray')\n",
    "    \n",
    "    if human_df['response_left'][index] == 1:\n",
    "        axarr[ii][1].imshow(temp_left, cmap='gray')\n",
    "        axarr[ii][2].imshow(temp_right, cmap='gray')\n",
    "    else:\n",
    "        axarr[ii][2].imshow(temp_left, cmap='gray')\n",
    "        axarr[ii][1].imshow(temp_right, cmap='gray')\n",
    "\n",
    "for ax_row in axarr:\n",
    "    for ax in ax_row:\n",
    "        ax.set_xticklabels([])\n",
    "        ax.set_yticklabels([])\n",
    "\n",
    "axarr[0,0].set_title('original', size=15)\n",
    "axarr[0,1].set_title('preferred', size=15)\n",
    "axarr[0,2].set_title('rejected', size=15)\n",
    "\n",
    "# plt.savefig('human_pref.png')\n",
    "plt.show()"
   ]
  }
 ],
 "metadata": {
  "kernelspec": {
   "display_name": "Python 3",
   "language": "python",
   "name": "python3"
  },
  "language_info": {
   "codemirror_mode": {
    "name": "ipython",
    "version": 3
   },
   "file_extension": ".py",
   "mimetype": "text/x-python",
   "name": "python",
   "nbconvert_exporter": "python",
   "pygments_lexer": "ipython3",
   "version": "3.5.2"
  }
 },
 "nbformat": 4,
 "nbformat_minor": 2
}
